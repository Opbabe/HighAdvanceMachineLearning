{
  "nbformat": 4,
  "nbformat_minor": 0,
  "metadata": {
    "colab": {
      "provenance": []
    },
    "kernelspec": {
      "name": "python3",
      "display_name": "Python 3"
    },
    "language_info": {
      "name": "python"
    }
  },
  "cells": [
    {
      "cell_type": "markdown",
      "source": [
        "# Instructions\n",
        "\n",
        "* Due date is Wednesday 10/02 2pm (we will do solutions in class, so you must submit before the class).\n",
        "\n",
        "* Submit in two parts:\n",
        "  * (Q1) Write the derivation on paper, take a photo or scan it, upload photo/pdf, **online**.\n",
        "  \n",
        "    Optional: You can also write out latex in this colab and the colab will convert it into nice formulae (see [latex tutorial](https://colab.research.google.com/github/bebi103a/bebi103a.github.io/blob/main/lessons/00/intro_to_latex.ipynb)) and submit along with Q2 **online**.\n",
        "    \n",
        "  * (Q2) Submit copy of this colab with your code and output saved, **online**.\n"
      ],
      "metadata": {
        "id": "8R4zV2wdlv8H"
      }
    },
    {
      "cell_type": "markdown",
      "source": [
        "## Q1 Gradient Descent (10 points)\n",
        "\n",
        "Consider a single layer of 2 perceptrons with input vector $x = (x_1, \\ldots, x_n)$ and two scalar outputs $(p_1, p_2)$ with following equations:\n",
        "\n",
        "$$p_i = \\sum_j w_{ij} x_j$$\n",
        "\n",
        "Now given a particular input vector $x$, its two labels $\\{ y_1, y_2 \\}$ and particular prediction $(p_1, p_2)$, suppose the loss function is defined as:\n",
        "\n",
        "$$L(w) = 0.9 (p_1 - y_1)^2 + 0.1 \\sum_j w_{1j}^2 + 0.1 (p_2 - y_2)^2 + 0.9 \\sum_j w_{2j}^2$$\n",
        "\n",
        "\n"
      ],
      "metadata": {
        "id": "jFfQeUcLk_AO"
      }
    },
    {
      "cell_type": "markdown",
      "source": [],
      "metadata": {
        "id": "d5wB7PuD2HQ1"
      }
    },
    {
      "cell_type": "markdown",
      "source": [
        "Show derivation of the\n",
        "\n",
        "$$\\frac{\\partial L}{\\partial w_{ij}}$$\n",
        "\n",
        "for all i, j.\n"
      ],
      "metadata": {
        "id": "eVE2HjbXr8cy"
      }
    },
    {
      "cell_type": "markdown",
      "source": [
        "## Q2 Keras Functional API (10 points)\n",
        "\n",
        "* Get the [fashion_mnist](https://keras.io/api/datasets/fashion_mnist/) dataset and build a classifier using the functional API that implements following model diagram. For the \"Norm\" layer, you can use LayerNormalization. For the \"Output\", use activation='softmax'.\n",
        "\n",
        "* Train the classifier for 30 epochs on the train set.\n",
        "\n",
        "* Evaluate the classifier on the test set and it should output SparseCategoricalAccuracy.\n",
        "\n",
        "* For aspects of model that are not specified here, make reasonable assumptions based on the [keras_intro.ipynb](https://colab.research.google.com/drive/1T2b_9SuwIOnhyHRE-ExnQFi8OmYhBSzR) done in the class.\n"
      ],
      "metadata": {
        "id": "gc0VKe0Ard83"
      }
    },
    {
      "cell_type": "markdown",
      "source": [
        "![image.png](data:image/png;base64,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)"
      ],
      "metadata": {
        "id": "o83Ujb6e5RIJ"
      }
    },
    {
      "cell_type": "code",
      "source": [
        "\n",
        "#First im going to import everything"
      ],
      "metadata": {
        "id": "4QotiC1baI6Q"
      },
      "execution_count": null,
      "outputs": []
    },
    {
      "cell_type": "markdown",
      "source": [],
      "metadata": {
        "id": "c74I7TieXKdj"
      }
    },
    {
      "cell_type": "code",
      "source": [
        "#These are my two reference I use from the lecture link\n",
        "#https://keras.io/guides/functional_api/\n",
        "#https://keras.io/api/datasets/fashion_mnist/\n",
        "\n",
        "\n",
        "import tensorflow as tf\n",
        "from tensorflow import keras\n",
        "from tensorflow.keras.layers import Input, Dense, Flatten, LayerNormalization, Add\n",
        "from tensorflow.keras.models import Model\n",
        "\n",
        "#First and foremost lets understand the logic behind this whole work\n",
        "#What does the professor want from us?\n",
        "\n",
        "#We know that Keras Func api help us build hard neural network, it can deal with multiple input and share layers\n",
        "\n",
        "\n",
        "#The whole idea is \"lets look at this image of clothing and tell what it is\"\n",
        "\n",
        "(X_full_train, y_full_train), (X_test, y_test) = keras.datasets.fashion_mnist.load_data()\n",
        "\n",
        "#So At first I made a huge mistake, because I relize there two dense layer right? That is between first nom..\n",
        "\n",
        "#I was also concern it might affect the training dynamic\n",
        "\n",
        "X_full_train = X_full_train / 255.0\n",
        "X_test = X_test / 255.0\n",
        "\n",
        "\n",
        "#Im putting the valid set and preparing it\n",
        "X_valid = X_full_train[:5000]\n",
        "\n",
        "y_valid = y_full_train[:5000]\n",
        "X_train = X_full_train[5000:]\n",
        "\n",
        "y_train = y_full_train[5000:]\n",
        "\n",
        "\n",
        "\n",
        "# the reason why I use 28,28 is because the link you provide clearly use 28.\n",
        "\n",
        "inp = Input(shape=(28, 28))\n",
        "#I flatten the 2d to 1d,i had problem of this but I use reference in discord\n",
        "flat = Flatten()(inp)\n",
        "\n",
        "\n",
        "\n",
        "dlayer_1 = Dense(50, activation='relu')(flat)\n",
        "\n",
        "norm_1 = LayerNormalization()(dlayer_1)\n",
        "\n",
        "# I add a second Dense layer, again with 50 units and ReLU activation\n",
        "dlayer_2 = Dense(50, activation='relu')(norm_1)\n",
        "\n",
        "dlayer_3 = Dense(50, activation='relu')(dlayer_2)\n",
        "\n",
        "\n",
        "#this is 100% needed because we can skip layers\n",
        "skip = Add()([norm_1, dlayer_3])\n",
        "\n",
        "norm_2 = LayerNormalization()(skip)\n",
        "\n",
        "\n",
        "#summing up to 1\n",
        "out = Dense(10, activation='softmax')(norm_2)\n",
        "\n",
        "model = Model(inputs=inp, outputs=out)\n",
        "\n",
        "#between the norm and adds you should hjave two 50 RELU layers not just one\n",
        "\n",
        "#for optimizer i used tf.keras.optimizers.RMSprop()\n",
        "\n",
        "model.compile(optimizer=tf.keras.optimizers.RMSprop(),\n",
        "\n",
        "\n",
        "              loss='sparse_categorical_crossentropy',\n",
        "\n",
        "\n",
        "              metrics=['sparse_categorical_accuracy'])\n",
        "\n",
        "# I train the model using the training data and validateset\n",
        "#please remember 30 epochs\n",
        "history = model.fit(X_train, y_train,\n",
        "                    epochs=30,\n",
        "                    validation_data=(X_valid, y_valid))\n",
        "\n",
        "test_loss, test_accuracy = model.evaluate(X_test, y_test)\n",
        "print(f\"The test accuracy result: {test_accuracy:.3f}\")"
      ],
      "metadata": {
        "colab": {
          "base_uri": "https://localhost:8080/"
        },
        "id": "JF52IXI_XJ5H",
        "outputId": "3f30683a-2c77-4b1c-9441-882fea68b46e"
      },
      "execution_count": null,
      "outputs": [
        {
          "output_type": "stream",
          "name": "stdout",
          "text": [
            "Epoch 1/30\n",
            "\u001b[1m1719/1719\u001b[0m \u001b[32m━━━━━━━━━━━━━━━━━━━━\u001b[0m\u001b[37m\u001b[0m \u001b[1m5s\u001b[0m 2ms/step - loss: 0.6289 - sparse_categorical_accuracy: 0.7717 - val_loss: 0.4319 - val_sparse_categorical_accuracy: 0.8344\n",
            "Epoch 2/30\n",
            "\u001b[1m1719/1719\u001b[0m \u001b[32m━━━━━━━━━━━━━━━━━━━━\u001b[0m\u001b[37m\u001b[0m \u001b[1m5s\u001b[0m 3ms/step - loss: 0.3873 - sparse_categorical_accuracy: 0.8593 - val_loss: 0.3502 - val_sparse_categorical_accuracy: 0.8692\n",
            "Epoch 3/30\n",
            "\u001b[1m1719/1719\u001b[0m \u001b[32m━━━━━━━━━━━━━━━━━━━━\u001b[0m\u001b[37m\u001b[0m \u001b[1m9s\u001b[0m 2ms/step - loss: 0.3453 - sparse_categorical_accuracy: 0.8743 - val_loss: 0.3586 - val_sparse_categorical_accuracy: 0.8710\n",
            "Epoch 4/30\n",
            "\u001b[1m1719/1719\u001b[0m \u001b[32m━━━━━━━━━━━━━━━━━━━━\u001b[0m\u001b[37m\u001b[0m \u001b[1m6s\u001b[0m 3ms/step - loss: 0.3256 - sparse_categorical_accuracy: 0.8793 - val_loss: 0.3222 - val_sparse_categorical_accuracy: 0.8836\n",
            "Epoch 5/30\n",
            "\u001b[1m1719/1719\u001b[0m \u001b[32m━━━━━━━━━━━━━━━━━━━━\u001b[0m\u001b[37m\u001b[0m \u001b[1m4s\u001b[0m 2ms/step - loss: 0.3070 - sparse_categorical_accuracy: 0.8854 - val_loss: 0.3377 - val_sparse_categorical_accuracy: 0.8790\n",
            "Epoch 6/30\n",
            "\u001b[1m1719/1719\u001b[0m \u001b[32m━━━━━━━━━━━━━━━━━━━━\u001b[0m\u001b[37m\u001b[0m \u001b[1m4s\u001b[0m 2ms/step - loss: 0.2952 - sparse_categorical_accuracy: 0.8905 - val_loss: 0.3292 - val_sparse_categorical_accuracy: 0.8806\n",
            "Epoch 7/30\n",
            "\u001b[1m1719/1719\u001b[0m \u001b[32m━━━━━━━━━━━━━━━━━━━━\u001b[0m\u001b[37m\u001b[0m \u001b[1m5s\u001b[0m 3ms/step - loss: 0.2892 - sparse_categorical_accuracy: 0.8931 - val_loss: 0.3353 - val_sparse_categorical_accuracy: 0.8772\n",
            "Epoch 8/30\n",
            "\u001b[1m1719/1719\u001b[0m \u001b[32m━━━━━━━━━━━━━━━━━━━━\u001b[0m\u001b[37m\u001b[0m \u001b[1m4s\u001b[0m 2ms/step - loss: 0.2789 - sparse_categorical_accuracy: 0.8969 - val_loss: 0.3232 - val_sparse_categorical_accuracy: 0.8804\n",
            "Epoch 9/30\n",
            "\u001b[1m1719/1719\u001b[0m \u001b[32m━━━━━━━━━━━━━━━━━━━━\u001b[0m\u001b[37m\u001b[0m \u001b[1m5s\u001b[0m 2ms/step - loss: 0.2680 - sparse_categorical_accuracy: 0.9006 - val_loss: 0.3146 - val_sparse_categorical_accuracy: 0.8842\n",
            "Epoch 10/30\n",
            "\u001b[1m1719/1719\u001b[0m \u001b[32m━━━━━━━━━━━━━━━━━━━━\u001b[0m\u001b[37m\u001b[0m \u001b[1m5s\u001b[0m 3ms/step - loss: 0.2629 - sparse_categorical_accuracy: 0.9029 - val_loss: 0.3182 - val_sparse_categorical_accuracy: 0.8838\n",
            "Epoch 11/30\n",
            "\u001b[1m1719/1719\u001b[0m \u001b[32m━━━━━━━━━━━━━━━━━━━━\u001b[0m\u001b[37m\u001b[0m \u001b[1m4s\u001b[0m 2ms/step - loss: 0.2586 - sparse_categorical_accuracy: 0.9028 - val_loss: 0.3301 - val_sparse_categorical_accuracy: 0.8798\n",
            "Epoch 12/30\n",
            "\u001b[1m1719/1719\u001b[0m \u001b[32m━━━━━━━━━━━━━━━━━━━━\u001b[0m\u001b[37m\u001b[0m \u001b[1m4s\u001b[0m 2ms/step - loss: 0.2518 - sparse_categorical_accuracy: 0.9074 - val_loss: 0.3241 - val_sparse_categorical_accuracy: 0.8836\n",
            "Epoch 13/30\n",
            "\u001b[1m1719/1719\u001b[0m \u001b[32m━━━━━━━━━━━━━━━━━━━━\u001b[0m\u001b[37m\u001b[0m \u001b[1m5s\u001b[0m 3ms/step - loss: 0.2500 - sparse_categorical_accuracy: 0.9075 - val_loss: 0.3205 - val_sparse_categorical_accuracy: 0.8872\n",
            "Epoch 14/30\n",
            "\u001b[1m1719/1719\u001b[0m \u001b[32m━━━━━━━━━━━━━━━━━━━━\u001b[0m\u001b[37m\u001b[0m \u001b[1m4s\u001b[0m 2ms/step - loss: 0.2437 - sparse_categorical_accuracy: 0.9092 - val_loss: 0.3682 - val_sparse_categorical_accuracy: 0.8700\n",
            "Epoch 15/30\n",
            "\u001b[1m1719/1719\u001b[0m \u001b[32m━━━━━━━━━━━━━━━━━━━━\u001b[0m\u001b[37m\u001b[0m \u001b[1m5s\u001b[0m 2ms/step - loss: 0.2358 - sparse_categorical_accuracy: 0.9124 - val_loss: 0.3206 - val_sparse_categorical_accuracy: 0.8856\n",
            "Epoch 16/30\n",
            "\u001b[1m1719/1719\u001b[0m \u001b[32m━━━━━━━━━━━━━━━━━━━━\u001b[0m\u001b[37m\u001b[0m \u001b[1m5s\u001b[0m 2ms/step - loss: 0.2362 - sparse_categorical_accuracy: 0.9120 - val_loss: 0.3237 - val_sparse_categorical_accuracy: 0.8856\n",
            "Epoch 17/30\n",
            "\u001b[1m1719/1719\u001b[0m \u001b[32m━━━━━━━━━━━━━━━━━━━━\u001b[0m\u001b[37m\u001b[0m \u001b[1m5s\u001b[0m 2ms/step - loss: 0.2280 - sparse_categorical_accuracy: 0.9154 - val_loss: 0.3376 - val_sparse_categorical_accuracy: 0.8846\n",
            "Epoch 18/30\n",
            "\u001b[1m1719/1719\u001b[0m \u001b[32m━━━━━━━━━━━━━━━━━━━━\u001b[0m\u001b[37m\u001b[0m \u001b[1m5s\u001b[0m 3ms/step - loss: 0.2241 - sparse_categorical_accuracy: 0.9163 - val_loss: 0.3205 - val_sparse_categorical_accuracy: 0.8878\n",
            "Epoch 19/30\n",
            "\u001b[1m1719/1719\u001b[0m \u001b[32m━━━━━━━━━━━━━━━━━━━━\u001b[0m\u001b[37m\u001b[0m \u001b[1m4s\u001b[0m 2ms/step - loss: 0.2253 - sparse_categorical_accuracy: 0.9164 - val_loss: 0.3374 - val_sparse_categorical_accuracy: 0.8856\n",
            "Epoch 20/30\n",
            "\u001b[1m1719/1719\u001b[0m \u001b[32m━━━━━━━━━━━━━━━━━━━━\u001b[0m\u001b[37m\u001b[0m \u001b[1m6s\u001b[0m 3ms/step - loss: 0.2176 - sparse_categorical_accuracy: 0.9173 - val_loss: 0.3363 - val_sparse_categorical_accuracy: 0.8832\n",
            "Epoch 21/30\n",
            "\u001b[1m1719/1719\u001b[0m \u001b[32m━━━━━━━━━━━━━━━━━━━━\u001b[0m\u001b[37m\u001b[0m \u001b[1m6s\u001b[0m 3ms/step - loss: 0.2110 - sparse_categorical_accuracy: 0.9227 - val_loss: 0.3173 - val_sparse_categorical_accuracy: 0.8878\n",
            "Epoch 22/30\n",
            "\u001b[1m1719/1719\u001b[0m \u001b[32m━━━━━━━━━━━━━━━━━━━━\u001b[0m\u001b[37m\u001b[0m \u001b[1m4s\u001b[0m 2ms/step - loss: 0.2167 - sparse_categorical_accuracy: 0.9192 - val_loss: 0.3174 - val_sparse_categorical_accuracy: 0.8902\n",
            "Epoch 23/30\n",
            "\u001b[1m1719/1719\u001b[0m \u001b[32m━━━━━━━━━━━━━━━━━━━━\u001b[0m\u001b[37m\u001b[0m \u001b[1m4s\u001b[0m 2ms/step - loss: 0.2053 - sparse_categorical_accuracy: 0.9219 - val_loss: 0.3262 - val_sparse_categorical_accuracy: 0.8838\n",
            "Epoch 24/30\n",
            "\u001b[1m1719/1719\u001b[0m \u001b[32m━━━━━━━━━━━━━━━━━━━━\u001b[0m\u001b[37m\u001b[0m \u001b[1m6s\u001b[0m 3ms/step - loss: 0.2072 - sparse_categorical_accuracy: 0.9228 - val_loss: 0.3477 - val_sparse_categorical_accuracy: 0.8834\n",
            "Epoch 25/30\n",
            "\u001b[1m1719/1719\u001b[0m \u001b[32m━━━━━━━━━━━━━━━━━━━━\u001b[0m\u001b[37m\u001b[0m \u001b[1m5s\u001b[0m 2ms/step - loss: 0.2046 - sparse_categorical_accuracy: 0.9245 - val_loss: 0.3425 - val_sparse_categorical_accuracy: 0.8850\n",
            "Epoch 26/30\n",
            "\u001b[1m1719/1719\u001b[0m \u001b[32m━━━━━━━━━━━━━━━━━━━━\u001b[0m\u001b[37m\u001b[0m \u001b[1m5s\u001b[0m 3ms/step - loss: 0.2038 - sparse_categorical_accuracy: 0.9232 - val_loss: 0.3451 - val_sparse_categorical_accuracy: 0.8856\n",
            "Epoch 27/30\n",
            "\u001b[1m1719/1719\u001b[0m \u001b[32m━━━━━━━━━━━━━━━━━━━━\u001b[0m\u001b[37m\u001b[0m \u001b[1m4s\u001b[0m 2ms/step - loss: 0.1978 - sparse_categorical_accuracy: 0.9263 - val_loss: 0.3610 - val_sparse_categorical_accuracy: 0.8796\n",
            "Epoch 28/30\n",
            "\u001b[1m1719/1719\u001b[0m \u001b[32m━━━━━━━━━━━━━━━━━━━━\u001b[0m\u001b[37m\u001b[0m \u001b[1m4s\u001b[0m 2ms/step - loss: 0.1930 - sparse_categorical_accuracy: 0.9267 - val_loss: 0.3385 - val_sparse_categorical_accuracy: 0.8866\n",
            "Epoch 29/30\n",
            "\u001b[1m1719/1719\u001b[0m \u001b[32m━━━━━━━━━━━━━━━━━━━━\u001b[0m\u001b[37m\u001b[0m \u001b[1m4s\u001b[0m 3ms/step - loss: 0.1952 - sparse_categorical_accuracy: 0.9274 - val_loss: 0.3540 - val_sparse_categorical_accuracy: 0.8882\n",
            "Epoch 30/30\n",
            "\u001b[1m1719/1719\u001b[0m \u001b[32m━━━━━━━━━━━━━━━━━━━━\u001b[0m\u001b[37m\u001b[0m \u001b[1m5s\u001b[0m 3ms/step - loss: 0.1903 - sparse_categorical_accuracy: 0.9292 - val_loss: 0.3468 - val_sparse_categorical_accuracy: 0.8850\n",
            "\u001b[1m313/313\u001b[0m \u001b[32m━━━━━━━━━━━━━━━━━━━━\u001b[0m\u001b[37m\u001b[0m \u001b[1m0s\u001b[0m 1ms/step - loss: 0.3898 - sparse_categorical_accuracy: 0.8803\n",
            "The test accuracy result: 0.879\n"
          ]
        }
      ]
    },
    {
      "cell_type": "code",
      "source": [],
      "metadata": {
        "id": "MljDhJl6y28Z"
      },
      "execution_count": null,
      "outputs": []
    }
  ]
}