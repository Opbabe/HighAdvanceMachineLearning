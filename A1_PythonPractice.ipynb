{
  "nbformat": 4,
  "nbformat_minor": 0,
  "metadata": {
    "colab": {
      "private_outputs": true,
      "provenance": []
    },
    "kernelspec": {
      "name": "python3",
      "display_name": "Python 3"
    },
    "language_info": {
      "name": "python"
    }
  },
  "cells": [
    {
      "cell_type": "markdown",
      "source": [
        "# Instructions\n",
        "\n",
        "* Make a copy of this colab.\n",
        "* Add code where needed.\n",
        "* Execute all cells, save colab with output.\n",
        "* Submit your .ipynb file to canvas as 'studentid\\_firstname\\_lastname\\_assignment1.ipynb'."
      ],
      "metadata": {
        "id": "HeDDV4SSu09C"
      }
    },
    {
      "cell_type": "code",
      "execution_count": null,
      "metadata": {
        "id": "aM1UWyLAIlMi"
      },
      "outputs": [],
      "source": [
        "import numpy as np\n",
        "import matplotlib\n",
        "from matplotlib import pyplot as plt"
      ]
    },
    {
      "cell_type": "markdown",
      "source": [
        "## Problem 1 - IsPalindrome - 5 points\n",
        "\n",
        "\n",
        "Write a function to check if a given string is a palindrome and test it on the given input."
      ],
      "metadata": {
        "id": "7jTiGdQOI7oq"
      }
    },
    {
      "cell_type": "code",
      "source": [
        "def IsPalindrome(s: str) -> bool:\n",
        "  #Here is how Im gonna update the code\n",
        "  #reverse the string s\n",
        "  #if they are the same func return true which is palindrome\n",
        "  #simple python slicing\n",
        "\n",
        "  return s == s[::-1]"
      ],
      "metadata": {
        "id": "MlSTeckDI-vO"
      },
      "execution_count": null,
      "outputs": []
    },
    {
      "cell_type": "code",
      "source": [
        "# DO NOT MODIFY THIS CELL, BUT DO EXECUTE THIS CELL\n",
        "\n",
        "a = ['', 'a', 'aa', 'abba', 'abab', 'abca']\n",
        "expected = [True, True, True, True, False, False]\n",
        "\n",
        "for ix, s in enumerate(a):\n",
        "  b = IsPalindrome(s)\n",
        "  print(s, '->IsPalindrom->', b)\n",
        "  assert b == expected[ix]"
      ],
      "metadata": {
        "id": "IX8rwDU3I3Hh"
      },
      "execution_count": null,
      "outputs": []
    },
    {
      "cell_type": "markdown",
      "source": [
        "# Problem 2 - FlipSort - 10 points\n",
        "\n",
        "Use the function `FlipPrefix()` given below that can flip a prefix an array to sort the array in increasing order. You can compare array elements but the only way to modify the array is to use `FlipPrefix()`. You may want to use NumPy's `argmax()` function."
      ],
      "metadata": {
        "id": "SVzr_WbUy2ez"
      }
    },
    {
      "cell_type": "code",
      "source": [
        "# DO NOT MODIFY THIS CELL, BUT DO EXECUTE THIS CELL\n",
        "\n",
        "def FlipPrefix(a: list[int], before_n: int) -> list[int]:\n",
        "  assert 0 < before_n <= len(a)\n",
        "  b = a[:before_n]\n",
        "  return b[::-1] + a[before_n:]\n"
      ],
      "metadata": {
        "id": "10Crg6NZy163"
      },
      "execution_count": null,
      "outputs": []
    },
    {
      "cell_type": "code",
      "source": [
        "#this code here will define flipsort function which take a list \"a\" as input\n",
        "# and then return as sorted list\n",
        "def FlipSort(a: list[int]) -> list[int]:\n",
        "  # Update this code using FlipPrefix and argmax\n",
        "\n",
        "  #here i am going to store the length of list a\n",
        "  n = len(a)\n",
        "\n",
        "  #now i have to loop through the array backwards\n",
        "  #why this? because this help us move each largest unsorted element to the right spot\n",
        "\n",
        "  for i in range(n, 0, -1):\n",
        "\n",
        "    #find index of the largest element in the first i element of the array\n",
        "    max_idx = np.argmax(a[:i])\n",
        "\n",
        "    #flipping beauty\n",
        "    if max_idx != 0:\n",
        "      a = FlipPrefix(a, max_idx + 1)\n",
        "\n",
        "\n",
        "    #flipping again so we flip first i element to the  largest element for correct spot\n",
        "    a = FlipPrefix(a, i)\n",
        "\n",
        "    #return the sorted array\n",
        "  return a\n",
        "\n",
        "\n"
      ],
      "metadata": {
        "id": "WrO97fqWJOBV"
      },
      "execution_count": null,
      "outputs": []
    },
    {
      "cell_type": "code",
      "source": [
        "# DO NOT MODIFY THIS CELL, BUT DO EXECUTE THIS CELL\n",
        "\n",
        "a = [[3, 1, 2, 5, 4],\n",
        "     [1],\n",
        "     [100, 101, 51, 41, 31, 21, 11, 1]]\n",
        "\n",
        "for row in a:\n",
        "  b = FlipSort(row)\n",
        "  print(row, '->FlipSort->', b)\n",
        "  assert b == sorted(row)\n"
      ],
      "metadata": {
        "id": "PNAJGakTJDZk"
      },
      "execution_count": null,
      "outputs": []
    },
    {
      "cell_type": "markdown",
      "source": [
        "# Problem 3 - Plot - 5 point\n",
        "\n",
        "Plot following 4 functions in a 2x2 subplots using `plt.subplot()` function.\n",
        "\n",
        "1.   y = x\n",
        "1.   y = x^2\n",
        "1.   y = x^3\n",
        "1.   y = sigmoid(x)\n",
        "\n"
      ],
      "metadata": {
        "id": "RTAnO4IDCmO9"
      }
    },
    {
      "cell_type": "code",
      "source": [
        "# I'm just importing library\n",
        "import numpy as np\n",
        "\n",
        "# Matplot to create plots\n",
        "import matplotlib.pyplot as plt\n",
        "\n",
        "\n",
        "# this code here is creating an array of 30 from -2 to 2\n",
        "x = np.linspace(-2, 2, 30)\n",
        "\n",
        "#So for myself lets understand the plot, 2, 2, 1 means 2 rows 2 columns and 1st quadrant which is top left\n",
        "plt.subplot(2, 2, 1)\n",
        "# Title for plot 1\n",
        "plt.title(\"y = x\")\n",
        "\n",
        "plt.plot(x, x)\n",
        "\n",
        "# I'm just moving to the next subplot position\n",
        "plt.subplot(2, 2, 2)\n",
        "\n",
        "# Title for plot 2\n",
        "plt.title(\"y = x^2\")\n",
        "\n",
        "# number 2\n",
        "plt.plot(x, x**2)\n",
        "\n",
        "# moving the subplot position\n",
        "plt.subplot(2, 2, 3)\n",
        "\n",
        "# Title for plot 3\n",
        "plt.title(\"y = x^3\")\n",
        "\n",
        "# number 3\n",
        "plt.plot(x, x**3)\n",
        "\n",
        "# number 4\n",
        "def sig_func(x):\n",
        "  return 1 / (1 + np.exp(-x))\n",
        "\n",
        "# moving the next subplot position\n",
        "plt.subplot(2, 2, 4)\n",
        "\n",
        "# Title for plot 4\n",
        "plt.title(\"y = sigmoid(x)\")\n",
        "\n",
        "# plotting number 4\n",
        "plt.plot(x, sig_func(x))\n",
        "\n",
        "# avoiding overlap\n",
        "plt.tight_layout()\n",
        "\n",
        "plt.show()"
      ],
      "metadata": {
        "id": "pqV4cHHMDAPB"
      },
      "execution_count": null,
      "outputs": []
    }
  ]
}